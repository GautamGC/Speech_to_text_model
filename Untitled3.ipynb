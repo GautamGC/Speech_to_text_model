{
 "cells": [
  {
   "cell_type": "code",
   "execution_count": 2,
   "id": "6243ad01-9d52-443b-81ec-11f58b4c8b54",
   "metadata": {},
   "outputs": [
    {
     "name": "stdout",
     "output_type": "stream",
     "text": [
      "Requirement already satisfied: gtts in c:\\yolo11\\myvenv\\lib\\site-packages (2.5.4)\n",
      "Requirement already satisfied: requests<3,>=2.27 in c:\\yolo11\\myvenv\\lib\\site-packages (from gtts) (2.32.3)\n",
      "Requirement already satisfied: click<8.2,>=7.1 in c:\\yolo11\\myvenv\\lib\\site-packages (from gtts) (8.1.8)\n",
      "Requirement already satisfied: colorama in c:\\yolo11\\myvenv\\lib\\site-packages (from click<8.2,>=7.1->gtts) (0.4.6)\n",
      "Requirement already satisfied: charset-normalizer<4,>=2 in c:\\yolo11\\myvenv\\lib\\site-packages (from requests<3,>=2.27->gtts) (3.4.0)\n",
      "Requirement already satisfied: idna<4,>=2.5 in c:\\yolo11\\myvenv\\lib\\site-packages (from requests<3,>=2.27->gtts) (3.10)\n",
      "Requirement already satisfied: urllib3<3,>=1.21.1 in c:\\yolo11\\myvenv\\lib\\site-packages (from requests<3,>=2.27->gtts) (2.2.3)\n",
      "Requirement already satisfied: certifi>=2017.4.17 in c:\\yolo11\\myvenv\\lib\\site-packages (from requests<3,>=2.27->gtts) (2024.8.30)\n"
     ]
    },
    {
     "name": "stderr",
     "output_type": "stream",
     "text": [
      "\n",
      "[notice] A new release of pip is available: 24.0 -> 25.0.1\n",
      "[notice] To update, run: C:\\yolo11\\myvenv\\Scripts\\python.exe -m pip install --upgrade pip\n"
     ]
    }
   ],
   "source": [
    "import sys\n",
    "!{sys.executable} -m pip install gtts"
   ]
  },
  {
   "cell_type": "code",
   "execution_count": 3,
   "id": "d1ed827f-7e54-4d19-8754-84bd2b8c016d",
   "metadata": {},
   "outputs": [
    {
     "name": "stdout",
     "output_type": "stream",
     "text": [
      "Name: gTTS\n",
      "Version: 2.5.4\n",
      "Summary: gTTS (Google Text-to-Speech), a Python library and CLI tool to interface with Google Translate text-to-speech API\n",
      "Home-page: \n",
      "Author: \n",
      "Author-email: Pierre Nicolas Durette <pndurette@gmail.com>\n",
      "License: MIT\n",
      "Location: C:\\yolo11\\myvenv\\Lib\\site-packages\n",
      "Requires: click, requests\n",
      "Required-by: \n",
      "Note: you may need to restart the kernel to use updated packages.\n"
     ]
    }
   ],
   "source": [
    "pip show gtts"
   ]
  },
  {
   "cell_type": "code",
   "execution_count": 10,
   "id": "90ab40d9-0239-4b13-817a-795c997e31dc",
   "metadata": {},
   "outputs": [
    {
     "name": "stdout",
     "output_type": "stream",
     "text": [
      "Generated MP3 file: test_speech.mp3\n",
      "Successfully created test_speech.wav\n"
     ]
    }
   ],
   "source": [
    "\n",
    "\n",
    "import os\n",
    "import subprocess\n",
    "import shutil\n",
    "from gtts import gTTS\n",
    "\n",
    "def create_speech_audio(text=\"hello world this is a test for speech recognition\", filename=\"speech_test.wav\"):\n",
    "    \"\"\"\n",
    "    Create a speech audio file using Google Text-to-Speech (gTTS)\n",
    "    and convert it to WAV format if `ffmpeg` is available.\n",
    "    \"\"\"\n",
    "    # Create a gTTS object\n",
    "    tts = gTTS(text=text, lang='en', slow=False)\n",
    "    \n",
    "    # Save as an MP3 file (gTTS doesn't support direct WAV output)\n",
    "    mp3_file = filename.replace('.wav', '.mp3')\n",
    "    tts.save(mp3_file)\n",
    "    print(f\"Generated MP3 file: {mp3_file}\")\n",
    "\n",
    "    # Check if ffmpeg is installed\n",
    "    if shutil.which(\"ffmpeg\"):\n",
    "        try:\n",
    "            cmd = f'ffmpeg -y -i \"{mp3_file}\" -acodec pcm_s16le -ar 16000 -ac 1 \"{filename}\"'\n",
    "            subprocess.run(cmd, shell=True, check=True)\n",
    "            print(f\"Successfully created {filename}\")\n",
    "\n",
    "            # Remove the MP3 file\n",
    "            os.remove(mp3_file)\n",
    "        except subprocess.CalledProcessError as e:\n",
    "            print(f\"Error during ffmpeg conversion: {e}\")\n",
    "            print(f\"MP3 file saved as {mp3_file}, but manual conversion to WAV is needed.\")\n",
    "    else:\n",
    "        print(f\"MP3 file saved as {mp3_file}. Install `ffmpeg` to convert it to WAV.\")\n",
    "\n",
    "if __name__ == \"__main__\":\n",
    "    # Customizable text input\n",
    "    sample_text = \"\" #how are you ,I am fine,he was a great person,he stays in india\n",
    "    create_speech_audio(text=sample_text, filename=\"test_speech.wav\")\n"
   ]
  },
  {
   "cell_type": "code",
   "execution_count": null,
   "id": "43feff87-dfd1-4521-94ce-57f2364f64cd",
   "metadata": {},
   "outputs": [],
   "source": []
  }
 ],
 "metadata": {
  "kernelspec": {
   "display_name": "Python 3 (ipykernel)",
   "language": "python",
   "name": "python3"
  },
  "language_info": {
   "codemirror_mode": {
    "name": "ipython",
    "version": 3
   },
   "file_extension": ".py",
   "mimetype": "text/x-python",
   "name": "python",
   "nbconvert_exporter": "python",
   "pygments_lexer": "ipython3",
   "version": "3.12.4"
  }
 },
 "nbformat": 4,
 "nbformat_minor": 5
}
